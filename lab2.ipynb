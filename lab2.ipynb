{
 "cells": [
  {
   "cell_type": "code",
   "execution_count": null,
   "metadata": {},
   "outputs": [],
   "source": [
    "!pip install -r requirements.txt"
   ]
  },
  {
   "cell_type": "code",
   "execution_count": 90,
   "metadata": {},
   "outputs": [],
   "source": [
    "import requests\n",
    "from bs4 import BeautifulSoup\n",
    "import time"
   ]
  },
  {
   "cell_type": "code",
   "execution_count": 94,
   "metadata": {},
   "outputs": [],
   "source": [
    "links = []\n",
    "url = \"https://visitseattle.org/events/page/\" # + page number, from 1 to 41\n",
    "\n",
    "# loop pages\n",
    "for i in range(1, 42):\n",
    "    res = requests.get(url + str(i) + \"/\")\n",
    "    soup = BeautifulSoup(res.text, \"html.parser\")\n",
    "    selector = \"div.search-result-preview > div > h3 > a\"\n",
    "    link = soup.select(selector)\n",
    "    links.extend([x['href'] for x in link])\n",
    "    time.sleep(1)  # sleep 1 second to avoid being blocked by the server"
   ]
  },
  {
   "cell_type": "code",
   "execution_count": 97,
   "metadata": {},
   "outputs": [
    {
     "data": {
      "text/plain": [
       "361"
      ]
     },
     "execution_count": 97,
     "metadata": {},
     "output_type": "execute_result"
    }
   ],
   "source": [
    "len(links)"
   ]
  },
  {
   "cell_type": "code",
   "execution_count": 115,
   "metadata": {},
   "outputs": [],
   "source": [
    "res = requests.get(links[0])\n",
    "soup = BeautifulSoup(res.text, \"html.parser\")\n",
    "name_selector = \"div.medium-6.columns.event-top > a:nth-child(4)\"\n",
    "name = soup.select(name_selector)"
   ]
  },
  {
   "cell_type": "code",
   "execution_count": 116,
   "metadata": {},
   "outputs": [
    {
     "data": {
      "text/plain": [
       "'Wallingford / Greenlake'"
      ]
     },
     "execution_count": 116,
     "metadata": {},
     "output_type": "execute_result"
    }
   ],
   "source": [
    "name[0].contents[0].strip()"
   ]
  },
  {
   "cell_type": "code",
   "execution_count": 120,
   "metadata": {},
   "outputs": [],
   "source": [
    "details = [[\"Name\", \"Date\", \"Location\", \"Type\", \"Region\"]]\n",
    "\n",
    "for link in links:\n",
    "    res = requests.get(link)\n",
    "    soup = BeautifulSoup(res.text, \"html.parser\")\n",
    "\n",
    "    data_item = [] # store data for one detailed page\n",
    "    # extract names\n",
    "    name_selector = \"div.medium-6.columns.event-top > h1\"\n",
    "    name = soup.select(name_selector)\n",
    "    data_item.append(name[0].contents[0].strip())\n",
    "    # extract dates\n",
    "    date_selector = \"div.medium-6.columns.event-top > h4 > span:nth-child(1)\"\n",
    "    date = soup.select(date_selector)\n",
    "    data_item.append(date[0].contents[0].strip())\n",
    "    # extract locations\n",
    "    location_selector = \"div.medium-6.columns.event-top > h4 > span:nth-child(2)\"\n",
    "    location = soup.select(location_selector)\n",
    "    data_item.append(location[0].contents[0].strip())\n",
    "    # extract types\n",
    "    type_selector = \"div.medium-6.columns.event-top > a:nth-child(3)\"\n",
    "    type = soup.select(type_selector)\n",
    "    data_item.append(type[0].contents[0].strip())\n",
    "    # extract regions\n",
    "    region_selector = \"div.medium-6.columns.event-top > a:nth-child(4)\"\n",
    "    region = soup.select(region_selector)\n",
    "    data_item.append(region[0].contents[0].strip())\n",
    "\n",
    "    details.append(data_item) # append data for one detailed page to the list\n",
    "    # time.sleep(1)  # sleep 1 second to avoid being blocked by the server"
   ]
  },
  {
   "cell_type": "code",
   "execution_count": null,
   "metadata": {},
   "outputs": [],
   "source": [
    "weather_base_url = \"https://nominatim.openstreetmap.org/ui/search.html\"\n",
    "res_weather = requests.get(weather_base_url, params={\"q\": \"Sea Monster Lounge, Seattle\", \"format\": \"jsonv2\"}).json()"
   ]
  },
  {
   "cell_type": "code",
   "execution_count": null,
   "metadata": {},
   "outputs": [],
   "source": [
    "res_weather"
   ]
  },
  {
   "cell_type": "code",
   "execution_count": null,
   "metadata": {},
   "outputs": [],
   "source": [
    "# github action: run everyday to get new events"
   ]
  }
 ],
 "metadata": {
  "kernelspec": {
   "display_name": "Python 3 (ipykernel)",
   "language": "python",
   "name": "python3"
  },
  "language_info": {
   "codemirror_mode": {
    "name": "ipython",
    "version": 3
   },
   "file_extension": ".py",
   "mimetype": "text/x-python",
   "name": "python",
   "nbconvert_exporter": "python",
   "pygments_lexer": "ipython3",
   "version": "3.7.11"
  }
 },
 "nbformat": 4,
 "nbformat_minor": 2
}
