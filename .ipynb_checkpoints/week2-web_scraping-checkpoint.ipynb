{
 "cells": [
  {
   "cell_type": "markdown",
   "metadata": {},
   "source": [
    "## Scraping Events on visitseattle.org\n",
    "\n",
    "https://visitseattle.org/\n",
    "\n",
    "- Where are our data of interest?\n",
    "  - List page\n",
    "  - Detail page\n",
    "- How to turn pages for list page?\n",
    "    - URL parameters\n",
    "    - Pagination\n",
    "- How to get data from detail page?\n",
    "    - HTML structure\n",
    "    - CSS selector"
   ]
  },
  {
   "cell_type": "code",
   "execution_count": 3,
   "metadata": {},
   "outputs": [],
   "source": [
    "import requests"
   ]
  },
  {
   "cell_type": "code",
   "execution_count": 4,
   "metadata": {},
   "outputs": [],
   "source": [
    "res = requests.get(\"https://visitseattle.org/events/page/1\")"
   ]
  },
  {
   "cell_type": "code",
   "execution_count": 5,
   "metadata": {},
   "outputs": [],
   "source": [
    "with open(\"visitseattle.html\", \"w\") as f:\n",
    "    f.write(res.text)"
   ]
  },
  {
   "cell_type": "code",
   "execution_count": 6,
   "metadata": {},
   "outputs": [],
   "source": [
    "from bs4 import BeautifulSoup"
   ]
  },
  {
   "cell_type": "code",
   "execution_count": 7,
   "metadata": {},
   "outputs": [],
   "source": [
    "soup = BeautifulSoup(res.text, \"html.parser\")"
   ]
  },
  {
   "cell_type": "code",
   "execution_count": 9,
   "metadata": {},
   "outputs": [
    {
     "data": {
      "text/plain": [
       "[<a href=\"https://visitseattle.org/events/glen-teriyaki/\" title=\"Glen Teriyaki\">Glen Teriyaki </a>,\n",
       " <a href=\"https://visitseattle.org/events/greta-matassa-sextet/\" title=\"Greta Matassa Sextet\">Greta Matassa Sextet </a>,\n",
       " <a href=\"https://visitseattle.org/events/holding-absence/\" title=\"Holding Absence\">Holding Absence </a>,\n",
       " <a href=\"https://visitseattle.org/events/nellie-mckay/\" title=\"Nellie McKay\">Nellie McKay </a>,\n",
       " <a href=\"https://visitseattle.org/events/amber-liu/\" title=\"Amber Liu\">Amber Liu </a>,\n",
       " <a href=\"https://visitseattle.org/events/disability-justice/\" title=\"Disability Justice\">Disability Justice </a>,\n",
       " <a href=\"https://visitseattle.org/events/hughes-bros-presents/\" title=\"Hughes Bros Presents\">Hughes Bros Presents </a>,\n",
       " <a href=\"https://visitseattle.org/events/sarya-wu/\" title=\"sarya wu\">sarya wu </a>,\n",
       " <a href=\"https://visitseattle.org/events/the-sweet-lillies/\" title=\"The Sweet Lillies\">The Sweet Lillies </a>]"
      ]
     },
     "execution_count": 9,
     "metadata": {},
     "output_type": "execute_result"
    }
   ],
   "source": [
    "links = soup.select(\"#searchform div.search-result-preview > div > h3 > a\")\n",
    "links"
   ]
  },
  {
   "cell_type": "code",
   "execution_count": 10,
   "metadata": {},
   "outputs": [
    {
     "data": {
      "text/plain": [
       "['https://visitseattle.org/events/glen-teriyaki/',\n",
       " 'https://visitseattle.org/events/greta-matassa-sextet/',\n",
       " 'https://visitseattle.org/events/holding-absence/',\n",
       " 'https://visitseattle.org/events/nellie-mckay/',\n",
       " 'https://visitseattle.org/events/amber-liu/',\n",
       " 'https://visitseattle.org/events/disability-justice/',\n",
       " 'https://visitseattle.org/events/hughes-bros-presents/',\n",
       " 'https://visitseattle.org/events/sarya-wu/',\n",
       " 'https://visitseattle.org/events/the-sweet-lillies/']"
      ]
     },
     "execution_count": 10,
     "metadata": {},
     "output_type": "execute_result"
    }
   ],
   "source": [
    "urls = [link[\"href\"] for link in links]\n",
    "urls"
   ]
  },
  {
   "cell_type": "code",
   "execution_count": 12,
   "metadata": {},
   "outputs": [],
   "source": [
    "# Get detail page\n",
    "\n",
    "url = urls[0]\n",
    "\n",
    "res = requests.get(url)\n",
    "\n",
    "with open('./visitseattle_detail.html', 'w') as f:\n",
    "    f.write(res.text)"
   ]
  },
  {
   "cell_type": "code",
   "execution_count": 13,
   "metadata": {},
   "outputs": [],
   "source": [
    "soup = BeautifulSoup(res.text, \"html.parser\")"
   ]
  },
  {
   "cell_type": "code",
   "execution_count": 18,
   "metadata": {},
   "outputs": [
    {
     "data": {
      "text/plain": [
       "<h1 class=\"page-title\" itemprop=\"headline\">Glen Teriyaki</h1>"
      ]
     },
     "execution_count": 18,
     "metadata": {},
     "output_type": "execute_result"
    }
   ],
   "source": [
    "title_ele = soup.select_one(\"div.medium-6.columns.event-top > h1\")\n",
    "title_ele"
   ]
  },
  {
   "cell_type": "code",
   "execution_count": 19,
   "metadata": {},
   "outputs": [
    {
     "data": {
      "text/plain": [
       "'Glen Teriyaki'"
      ]
     },
     "execution_count": 19,
     "metadata": {},
     "output_type": "execute_result"
    }
   ],
   "source": [
    "title_ele.text"
   ]
  },
  {
   "cell_type": "code",
   "execution_count": 15,
   "metadata": {},
   "outputs": [
    {
     "data": {
      "text/plain": [
       "[<h4><span>1/16/2024</span> | <span> Sea Monster Lounge</span></h4>]"
      ]
     },
     "execution_count": 15,
     "metadata": {},
     "output_type": "execute_result"
    }
   ],
   "source": [
    "soup.select(\"div.medium-6.columns.event-top > h4\")"
   ]
  },
  {
   "cell_type": "markdown",
   "metadata": {},
   "source": [
    "## Web API\n",
    "\n",
    "### Weather.gov\n",
    "https://www.weather.gov/documentation/services-web-api\n",
    "https://api.weather.gov/points/{latitude},{longitude}\n",
    "\n",
    "### Geo location\n",
    "\n",
    "https://nominatim.openstreetmap.org/search.php?q=seattle&format=jsonv2\n"
   ]
  },
  {
   "cell_type": "code",
   "execution_count": 16,
   "metadata": {},
   "outputs": [
    {
     "data": {
      "text/plain": [
       "[<a class=\"button big medium black category\" href=\"/?s=&amp;frm=events&amp;event_type=music\">Music</a>]"
      ]
     },
     "execution_count": 16,
     "metadata": {},
     "output_type": "execute_result"
    }
   ],
   "source": [
    "soup.select(\"div.medium-6.columns.event-top > a:nth-child(3)\")"
   ]
  },
  {
   "cell_type": "markdown",
   "metadata": {},
   "source": [
    "## Practice\n",
    "\n",
    "Please finish the scraper for this page"
   ]
  },
  {
   "cell_type": "code",
   "execution_count": 21,
   "metadata": {},
   "outputs": [],
   "source": [
    "import requests"
   ]
  },
  {
   "cell_type": "code",
   "execution_count": 24,
   "metadata": {},
   "outputs": [
    {
     "data": {
      "text/plain": [
       "[{'place_id': 312908827,\n",
       "  'licence': 'Data © OpenStreetMap contributors, ODbL 1.0. http://osm.org/copyright',\n",
       "  'osm_type': 'relation',\n",
       "  'osm_id': 237385,\n",
       "  'lat': '47.6038321',\n",
       "  'lon': '-122.330062',\n",
       "  'category': 'boundary',\n",
       "  'type': 'administrative',\n",
       "  'place_rank': 16,\n",
       "  'importance': 0.6729791735643788,\n",
       "  'addresstype': 'city',\n",
       "  'name': 'Seattle',\n",
       "  'display_name': 'Seattle, King County, Washington, United States',\n",
       "  'boundingbox': ['47.4810022', '47.7341354', '-122.4596960', '-122.2244330']}]"
      ]
     },
     "execution_count": 24,
     "metadata": {},
     "output_type": "execute_result"
    }
   ],
   "source": [
    "location_name = \"seattle\"\n",
    "res = requests.get(f\"https://nominatim.openstreetmap.org/search.php?q={location}&format=jsonv2\")\n",
    "location = res.json()\n",
    "location"
   ]
  },
  {
   "cell_type": "code",
   "execution_count": 25,
   "metadata": {},
   "outputs": [],
   "source": [
    "lat, lon = location[0]['lat'], location[0]['lon']"
   ]
  },
  {
   "cell_type": "code",
   "execution_count": 27,
   "metadata": {},
   "outputs": [
    {
     "data": {
      "text/plain": [
       "{'@context': ['https://geojson.org/geojson-ld/geojson-context.jsonld',\n",
       "  {'@version': '1.1',\n",
       "   'wx': 'https://api.weather.gov/ontology#',\n",
       "   's': 'https://schema.org/',\n",
       "   'geo': 'http://www.opengis.net/ont/geosparql#',\n",
       "   'unit': 'http://codes.wmo.int/common/unit/',\n",
       "   '@vocab': 'https://api.weather.gov/ontology#',\n",
       "   'geometry': {'@id': 's:GeoCoordinates', '@type': 'geo:wktLiteral'},\n",
       "   'city': 's:addressLocality',\n",
       "   'state': 's:addressRegion',\n",
       "   'distance': {'@id': 's:Distance', '@type': 's:QuantitativeValue'},\n",
       "   'bearing': {'@type': 's:QuantitativeValue'},\n",
       "   'value': {'@id': 's:value'},\n",
       "   'unitCode': {'@id': 's:unitCode', '@type': '@id'},\n",
       "   'forecastOffice': {'@type': '@id'},\n",
       "   'forecastGridData': {'@type': '@id'},\n",
       "   'publicZone': {'@type': '@id'},\n",
       "   'county': {'@type': '@id'}}],\n",
       " 'id': 'https://api.weather.gov/points/47.6038,-122.3301',\n",
       " 'type': 'Feature',\n",
       " 'geometry': {'type': 'Point', 'coordinates': [-122.3301, 47.6038]},\n",
       " 'properties': {'@id': 'https://api.weather.gov/points/47.6038,-122.3301',\n",
       "  '@type': 'wx:Point',\n",
       "  'cwa': 'SEW',\n",
       "  'forecastOffice': 'https://api.weather.gov/offices/SEW',\n",
       "  'gridId': 'SEW',\n",
       "  'gridX': 125,\n",
       "  'gridY': 68,\n",
       "  'forecast': 'https://api.weather.gov/gridpoints/SEW/125,68/forecast',\n",
       "  'forecastHourly': 'https://api.weather.gov/gridpoints/SEW/125,68/forecast/hourly',\n",
       "  'forecastGridData': 'https://api.weather.gov/gridpoints/SEW/125,68',\n",
       "  'observationStations': 'https://api.weather.gov/gridpoints/SEW/125,68/stations',\n",
       "  'relativeLocation': {'type': 'Feature',\n",
       "   'geometry': {'type': 'Point', 'coordinates': [-122.350876, 47.620499]},\n",
       "   'properties': {'city': 'Seattle',\n",
       "    'state': 'WA',\n",
       "    'distance': {'unitCode': 'wmoUnit:m', 'value': 2423.5072668189},\n",
       "    'bearing': {'unitCode': 'wmoUnit:degree_(angle)', 'value': 140}}},\n",
       "  'forecastZone': 'https://api.weather.gov/zones/forecast/WAZ558',\n",
       "  'county': 'https://api.weather.gov/zones/county/WAC033',\n",
       "  'fireWeatherZone': 'https://api.weather.gov/zones/fire/WAZ654',\n",
       "  'timeZone': 'America/Los_Angeles',\n",
       "  'radarStation': 'KATX'}}"
      ]
     },
     "execution_count": 27,
     "metadata": {},
     "output_type": "execute_result"
    }
   ],
   "source": [
    "res = requests.get(f\"https://api.weather.gov/points/{lat},{lon}\")\n",
    "weather_point = res.json()\n",
    "weather_point"
   ]
  },
  {
   "cell_type": "code",
   "execution_count": 29,
   "metadata": {},
   "outputs": [
    {
     "data": {
      "text/plain": [
       "'https://api.weather.gov/gridpoints/SEW/125,68/forecast'"
      ]
     },
     "execution_count": 29,
     "metadata": {},
     "output_type": "execute_result"
    }
   ],
   "source": [
    "forecast_url = weather_point['properties']['forecast']\n",
    "forecast_url"
   ]
  },
  {
   "cell_type": "code",
   "execution_count": 30,
   "metadata": {},
   "outputs": [
    {
     "data": {
      "text/plain": [
       "{'@context': ['https://geojson.org/geojson-ld/geojson-context.jsonld',\n",
       "  {'@version': '1.1',\n",
       "   'wx': 'https://api.weather.gov/ontology#',\n",
       "   'geo': 'http://www.opengis.net/ont/geosparql#',\n",
       "   'unit': 'http://codes.wmo.int/common/unit/',\n",
       "   '@vocab': 'https://api.weather.gov/ontology#'}],\n",
       " 'type': 'Feature',\n",
       " 'geometry': {'type': 'Polygon',\n",
       "  'coordinates': [[[-122.338331, 47.6159569],\n",
       "    [-122.33210799999999, 47.5954304],\n",
       "    [-122.30157759999999, 47.5996357],\n",
       "    [-122.30779399999999, 47.6201625],\n",
       "    [-122.338331, 47.6159569]]]},\n",
       " 'properties': {'updated': '2024-01-16T16:40:22+00:00',\n",
       "  'units': 'us',\n",
       "  'forecastGenerator': 'BaselineForecastGenerator',\n",
       "  'generatedAt': '2024-01-16T17:50:05+00:00',\n",
       "  'updateTime': '2024-01-16T16:40:22+00:00',\n",
       "  'validTimes': '2024-01-16T10:00:00+00:00/P7DT15H',\n",
       "  'elevation': {'unitCode': 'wmoUnit:m', 'value': 73.152},\n",
       "  'periods': [{'number': 1,\n",
       "    'name': 'Today',\n",
       "    'startTime': '2024-01-16T09:00:00-08:00',\n",
       "    'endTime': '2024-01-16T18:00:00-08:00',\n",
       "    'isDaytime': True,\n",
       "    'temperature': 36,\n",
       "    'temperatureUnit': 'F',\n",
       "    'temperatureTrend': 'falling',\n",
       "    'probabilityOfPrecipitation': {'unitCode': 'wmoUnit:percent', 'value': 30},\n",
       "    'dewpoint': {'unitCode': 'wmoUnit:degC', 'value': -4.444444444444445},\n",
       "    'relativeHumidity': {'unitCode': 'wmoUnit:percent', 'value': 65},\n",
       "    'windSpeed': '5 mph',\n",
       "    'windDirection': 'SSE',\n",
       "    'icon': 'https://api.weather.gov/icons/land/day/bkn/snow,30?size=medium',\n",
       "    'shortForecast': 'Partly Sunny then Chance Rain And Snow',\n",
       "    'detailedForecast': 'A chance of rain and snow after 4pm. Partly sunny. High near 36, with temperatures falling to around 34 in the afternoon. Wind chill values as low as 20. South southeast wind around 5 mph. Chance of precipitation is 30%. Little or no ice accumulation expected.'},\n",
       "   {'number': 2,\n",
       "    'name': 'Tonight',\n",
       "    'startTime': '2024-01-16T18:00:00-08:00',\n",
       "    'endTime': '2024-01-17T06:00:00-08:00',\n",
       "    'isDaytime': False,\n",
       "    'temperature': 32,\n",
       "    'temperatureUnit': 'F',\n",
       "    'temperatureTrend': 'rising',\n",
       "    'probabilityOfPrecipitation': {'unitCode': 'wmoUnit:percent',\n",
       "     'value': 100},\n",
       "    'dewpoint': {'unitCode': 'wmoUnit:degC', 'value': 1.1111111111111112},\n",
       "    'relativeHumidity': {'unitCode': 'wmoUnit:percent', 'value': 93},\n",
       "    'windSpeed': '6 mph',\n",
       "    'windDirection': 'SE',\n",
       "    'icon': 'https://api.weather.gov/icons/land/night/snow_fzra,100?size=medium',\n",
       "    'shortForecast': 'Freezing Rain',\n",
       "    'detailedForecast': 'Rain and snow before 9pm, then freezing rain and rain and snow. Cloudy. Low around 32, with temperatures rising to around 36 overnight. Southeast wind around 6 mph. Chance of precipitation is 100%. Little or no ice accumulation expected.'},\n",
       "   {'number': 3,\n",
       "    'name': 'Wednesday',\n",
       "    'startTime': '2024-01-17T06:00:00-08:00',\n",
       "    'endTime': '2024-01-17T18:00:00-08:00',\n",
       "    'isDaytime': True,\n",
       "    'temperature': 39,\n",
       "    'temperatureUnit': 'F',\n",
       "    'temperatureTrend': 'falling',\n",
       "    'probabilityOfPrecipitation': {'unitCode': 'wmoUnit:percent',\n",
       "     'value': 100},\n",
       "    'dewpoint': {'unitCode': 'wmoUnit:degC', 'value': 3.3333333333333335},\n",
       "    'relativeHumidity': {'unitCode': 'wmoUnit:percent', 'value': 100},\n",
       "    'windSpeed': '6 to 9 mph',\n",
       "    'windDirection': 'S',\n",
       "    'icon': 'https://api.weather.gov/icons/land/day/rain,100/snow,100?size=medium',\n",
       "    'shortForecast': 'Rain then Rain And Snow Likely',\n",
       "    'detailedForecast': 'Rain before 1pm, then rain and snow likely between 1pm and 3pm, then rain and snow. Cloudy. High near 39, with temperatures falling to around 37 in the afternoon. South wind 6 to 9 mph. Chance of precipitation is 100%. New rainfall amounts between a half and three quarters of an inch possible.'},\n",
       "   {'number': 4,\n",
       "    'name': 'Wednesday Night',\n",
       "    'startTime': '2024-01-17T18:00:00-08:00',\n",
       "    'endTime': '2024-01-18T06:00:00-08:00',\n",
       "    'isDaytime': False,\n",
       "    'temperature': 33,\n",
       "    'temperatureUnit': 'F',\n",
       "    'temperatureTrend': None,\n",
       "    'probabilityOfPrecipitation': {'unitCode': 'wmoUnit:percent', 'value': 80},\n",
       "    'dewpoint': {'unitCode': 'wmoUnit:degC', 'value': 1.6666666666666667},\n",
       "    'relativeHumidity': {'unitCode': 'wmoUnit:percent', 'value': 94},\n",
       "    'windSpeed': '5 to 9 mph',\n",
       "    'windDirection': 'SSE',\n",
       "    'icon': 'https://api.weather.gov/icons/land/night/snow,80/snow,40?size=medium',\n",
       "    'shortForecast': 'Rain And Snow then Chance Rain And Snow',\n",
       "    'detailedForecast': 'Rain and snow before 10pm, then a chance of rain and snow. Mostly cloudy, with a low around 33. South southeast wind 5 to 9 mph. Chance of precipitation is 80%. New rainfall amounts between a tenth and quarter of an inch possible.'},\n",
       "   {'number': 5,\n",
       "    'name': 'Thursday',\n",
       "    'startTime': '2024-01-18T06:00:00-08:00',\n",
       "    'endTime': '2024-01-18T18:00:00-08:00',\n",
       "    'isDaytime': True,\n",
       "    'temperature': 39,\n",
       "    'temperatureUnit': 'F',\n",
       "    'temperatureTrend': None,\n",
       "    'probabilityOfPrecipitation': {'unitCode': 'wmoUnit:percent',\n",
       "     'value': 100},\n",
       "    'dewpoint': {'unitCode': 'wmoUnit:degC', 'value': 2.2222222222222223},\n",
       "    'relativeHumidity': {'unitCode': 'wmoUnit:percent', 'value': 93},\n",
       "    'windSpeed': '5 to 8 mph',\n",
       "    'windDirection': 'E',\n",
       "    'icon': 'https://api.weather.gov/icons/land/day/snow,80/snow,100?size=medium',\n",
       "    'shortForecast': 'Rain And Snow',\n",
       "    'detailedForecast': 'A chance of rain before 7am, then rain and snow. Cloudy, with a high near 39. East wind 5 to 8 mph. Chance of precipitation is 100%. New rainfall amounts between a half and three quarters of an inch possible.'},\n",
       "   {'number': 6,\n",
       "    'name': 'Thursday Night',\n",
       "    'startTime': '2024-01-18T18:00:00-08:00',\n",
       "    'endTime': '2024-01-19T06:00:00-08:00',\n",
       "    'isDaytime': False,\n",
       "    'temperature': 36,\n",
       "    'temperatureUnit': 'F',\n",
       "    'temperatureTrend': None,\n",
       "    'probabilityOfPrecipitation': {'unitCode': 'wmoUnit:percent',\n",
       "     'value': 100},\n",
       "    'dewpoint': {'unitCode': 'wmoUnit:degC', 'value': 1.1111111111111112},\n",
       "    'relativeHumidity': {'unitCode': 'wmoUnit:percent', 'value': 89},\n",
       "    'windSpeed': '9 mph',\n",
       "    'windDirection': 'ESE',\n",
       "    'icon': 'https://api.weather.gov/icons/land/night/snow,100?size=medium',\n",
       "    'shortForecast': 'Rain And Snow',\n",
       "    'detailedForecast': 'Rain and snow. Cloudy, with a low around 36. Chance of precipitation is 100%. New rainfall amounts between a quarter and half of an inch possible.'},\n",
       "   {'number': 7,\n",
       "    'name': 'Friday',\n",
       "    'startTime': '2024-01-19T06:00:00-08:00',\n",
       "    'endTime': '2024-01-19T18:00:00-08:00',\n",
       "    'isDaytime': True,\n",
       "    'temperature': 43,\n",
       "    'temperatureUnit': 'F',\n",
       "    'temperatureTrend': None,\n",
       "    'probabilityOfPrecipitation': {'unitCode': 'wmoUnit:percent', 'value': 90},\n",
       "    'dewpoint': {'unitCode': 'wmoUnit:degC', 'value': 3.888888888888889},\n",
       "    'relativeHumidity': {'unitCode': 'wmoUnit:percent', 'value': 90},\n",
       "    'windSpeed': '8 mph',\n",
       "    'windDirection': 'E',\n",
       "    'icon': 'https://api.weather.gov/icons/land/day/rain,90/rain,80?size=medium',\n",
       "    'shortForecast': 'Light Rain',\n",
       "    'detailedForecast': 'Rain. Cloudy, with a high near 43. Chance of precipitation is 90%.'},\n",
       "   {'number': 8,\n",
       "    'name': 'Friday Night',\n",
       "    'startTime': '2024-01-19T18:00:00-08:00',\n",
       "    'endTime': '2024-01-20T06:00:00-08:00',\n",
       "    'isDaytime': False,\n",
       "    'temperature': 39,\n",
       "    'temperatureUnit': 'F',\n",
       "    'temperatureTrend': None,\n",
       "    'probabilityOfPrecipitation': {'unitCode': 'wmoUnit:percent',\n",
       "     'value': None},\n",
       "    'dewpoint': {'unitCode': 'wmoUnit:degC', 'value': 3.3333333333333335},\n",
       "    'relativeHumidity': {'unitCode': 'wmoUnit:percent', 'value': 90},\n",
       "    'windSpeed': '9 mph',\n",
       "    'windDirection': 'SE',\n",
       "    'icon': 'https://api.weather.gov/icons/land/night/rain?size=medium',\n",
       "    'shortForecast': 'Light Rain',\n",
       "    'detailedForecast': 'Rain. Cloudy, with a low around 39.'},\n",
       "   {'number': 9,\n",
       "    'name': 'Saturday',\n",
       "    'startTime': '2024-01-20T06:00:00-08:00',\n",
       "    'endTime': '2024-01-20T18:00:00-08:00',\n",
       "    'isDaytime': True,\n",
       "    'temperature': 47,\n",
       "    'temperatureUnit': 'F',\n",
       "    'temperatureTrend': None,\n",
       "    'probabilityOfPrecipitation': {'unitCode': 'wmoUnit:percent',\n",
       "     'value': None},\n",
       "    'dewpoint': {'unitCode': 'wmoUnit:degC', 'value': 6.666666666666667},\n",
       "    'relativeHumidity': {'unitCode': 'wmoUnit:percent', 'value': 92},\n",
       "    'windSpeed': '12 mph',\n",
       "    'windDirection': 'SSE',\n",
       "    'icon': 'https://api.weather.gov/icons/land/day/rain?size=medium',\n",
       "    'shortForecast': 'Light Rain',\n",
       "    'detailedForecast': 'Rain. Cloudy, with a high near 47.'},\n",
       "   {'number': 10,\n",
       "    'name': 'Saturday Night',\n",
       "    'startTime': '2024-01-20T18:00:00-08:00',\n",
       "    'endTime': '2024-01-21T06:00:00-08:00',\n",
       "    'isDaytime': False,\n",
       "    'temperature': 41,\n",
       "    'temperatureUnit': 'F',\n",
       "    'temperatureTrend': None,\n",
       "    'probabilityOfPrecipitation': {'unitCode': 'wmoUnit:percent',\n",
       "     'value': None},\n",
       "    'dewpoint': {'unitCode': 'wmoUnit:degC', 'value': 5.555555555555555},\n",
       "    'relativeHumidity': {'unitCode': 'wmoUnit:percent', 'value': 90},\n",
       "    'windSpeed': '9 mph',\n",
       "    'windDirection': 'SE',\n",
       "    'icon': 'https://api.weather.gov/icons/land/night/rain?size=medium',\n",
       "    'shortForecast': 'Light Rain',\n",
       "    'detailedForecast': 'Rain. Cloudy, with a low around 41.'},\n",
       "   {'number': 11,\n",
       "    'name': 'Sunday',\n",
       "    'startTime': '2024-01-21T06:00:00-08:00',\n",
       "    'endTime': '2024-01-21T18:00:00-08:00',\n",
       "    'isDaytime': True,\n",
       "    'temperature': 47,\n",
       "    'temperatureUnit': 'F',\n",
       "    'temperatureTrend': None,\n",
       "    'probabilityOfPrecipitation': {'unitCode': 'wmoUnit:percent',\n",
       "     'value': None},\n",
       "    'dewpoint': {'unitCode': 'wmoUnit:degC', 'value': 6.111111111111111},\n",
       "    'relativeHumidity': {'unitCode': 'wmoUnit:percent', 'value': 94},\n",
       "    'windSpeed': '10 mph',\n",
       "    'windDirection': 'SE',\n",
       "    'icon': 'https://api.weather.gov/icons/land/day/rain?size=medium',\n",
       "    'shortForecast': 'Light Rain',\n",
       "    'detailedForecast': 'Rain. Cloudy, with a high near 47.'},\n",
       "   {'number': 12,\n",
       "    'name': 'Sunday Night',\n",
       "    'startTime': '2024-01-21T18:00:00-08:00',\n",
       "    'endTime': '2024-01-22T06:00:00-08:00',\n",
       "    'isDaytime': False,\n",
       "    'temperature': 41,\n",
       "    'temperatureUnit': 'F',\n",
       "    'temperatureTrend': None,\n",
       "    'probabilityOfPrecipitation': {'unitCode': 'wmoUnit:percent',\n",
       "     'value': None},\n",
       "    'dewpoint': {'unitCode': 'wmoUnit:degC', 'value': 6.111111111111111},\n",
       "    'relativeHumidity': {'unitCode': 'wmoUnit:percent', 'value': 92},\n",
       "    'windSpeed': '9 mph',\n",
       "    'windDirection': 'SE',\n",
       "    'icon': 'https://api.weather.gov/icons/land/night/rain?size=medium',\n",
       "    'shortForecast': 'Light Rain',\n",
       "    'detailedForecast': 'Rain. Mostly cloudy, with a low around 41.'},\n",
       "   {'number': 13,\n",
       "    'name': 'Monday',\n",
       "    'startTime': '2024-01-22T06:00:00-08:00',\n",
       "    'endTime': '2024-01-22T18:00:00-08:00',\n",
       "    'isDaytime': True,\n",
       "    'temperature': 49,\n",
       "    'temperatureUnit': 'F',\n",
       "    'temperatureTrend': None,\n",
       "    'probabilityOfPrecipitation': {'unitCode': 'wmoUnit:percent',\n",
       "     'value': None},\n",
       "    'dewpoint': {'unitCode': 'wmoUnit:degC', 'value': 7.222222222222222},\n",
       "    'relativeHumidity': {'unitCode': 'wmoUnit:percent', 'value': 92},\n",
       "    'windSpeed': '8 mph',\n",
       "    'windDirection': 'SE',\n",
       "    'icon': 'https://api.weather.gov/icons/land/day/rain?size=medium',\n",
       "    'shortForecast': 'Light Rain',\n",
       "    'detailedForecast': 'Rain before 5pm. Mostly cloudy, with a high near 49.'},\n",
       "   {'number': 14,\n",
       "    'name': 'Monday Night',\n",
       "    'startTime': '2024-01-22T18:00:00-08:00',\n",
       "    'endTime': '2024-01-23T06:00:00-08:00',\n",
       "    'isDaytime': False,\n",
       "    'temperature': 43,\n",
       "    'temperatureUnit': 'F',\n",
       "    'temperatureTrend': None,\n",
       "    'probabilityOfPrecipitation': {'unitCode': 'wmoUnit:percent',\n",
       "     'value': None},\n",
       "    'dewpoint': {'unitCode': 'wmoUnit:degC', 'value': 6.666666666666667},\n",
       "    'relativeHumidity': {'unitCode': 'wmoUnit:percent', 'value': 92},\n",
       "    'windSpeed': '9 mph',\n",
       "    'windDirection': 'SSE',\n",
       "    'icon': 'https://api.weather.gov/icons/land/night/bkn?size=medium',\n",
       "    'shortForecast': 'Mostly Cloudy',\n",
       "    'detailedForecast': 'Mostly cloudy, with a low around 43.'}]}}"
      ]
     },
     "execution_count": 30,
     "metadata": {},
     "output_type": "execute_result"
    }
   ],
   "source": [
    "res = requests.get(forecast_url)\n",
    "res.json()"
   ]
  },
  {
   "cell_type": "code",
   "execution_count": null,
   "metadata": {},
   "outputs": [],
   "source": []
  }
 ],
 "metadata": {
  "kernelspec": {
   "display_name": "Python 3 (ipykernel)",
   "language": "python",
   "name": "python3"
  },
  "language_info": {
   "codemirror_mode": {
    "name": "ipython",
    "version": 3
   },
   "file_extension": ".py",
   "mimetype": "text/x-python",
   "name": "python",
   "nbconvert_exporter": "python",
   "pygments_lexer": "ipython3",
   "version": "3.7.11"
  }
 },
 "nbformat": 4,
 "nbformat_minor": 2
}
